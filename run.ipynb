{
 "cells": [
  {
   "attachments": {},
   "cell_type": "markdown",
   "metadata": {},
   "source": [
    "# IMPORT LIBERARIES"
   ]
  },
  {
   "cell_type": "code",
   "execution_count": null,
   "metadata": {},
   "outputs": [],
   "source": [
    "from start import init_train\n",
    "from utils.weights import LoadWeights\n",
    "from utils.images import SaveImages\n",
    "from math import ceil\n",
    "import random\n",
    "import PIL\n",
    "import os"
   ]
  },
  {
   "attachments": {},
   "cell_type": "markdown",
   "metadata": {},
   "source": [
    "# UTILITIES"
   ]
  },
  {
   "cell_type": "code",
   "execution_count": null,
   "metadata": {},
   "outputs": [],
   "source": [
    "def createImageGrid(images, scale=0.25, rows=1):\n",
    "   w,h = images[0].size\n",
    "   w = int(w*scale)\n",
    "   h = int(h*scale)\n",
    "   height = rows*h\n",
    "   cols = ceil(len(images) / rows)\n",
    "   width = cols*w\n",
    "   canvas = PIL.Image.new('RGBA', (width,height), 'white')\n",
    "   for i,img in enumerate(images):\n",
    "     img = img.resize((w,h), PIL.Image.ANTIALIAS)\n",
    "     canvas.paste(img, (w*(i % cols), h*(i // cols)))\n",
    "   return canvas"
   ]
  },
  {
   "attachments": {},
   "cell_type": "markdown",
   "metadata": {},
   "source": [
    "# RESIZING THE INPUT IMAGES TO 64X64"
   ]
  },
  {
   "cell_type": "code",
   "execution_count": null,
   "metadata": {},
   "outputs": [],
   "source": [
    "os.mkdir('test')"
   ]
  },
  {
   "cell_type": "code",
   "execution_count": null,
   "metadata": {},
   "outputs": [],
   "source": [
    "import os\n",
    "from PIL import Image\n",
    "path = 'Inception-Score/data/real_images_64/'\n",
    "files = os.listdir(path)[:500]\n",
    "for file in files:\n",
    "    # Open the image file\n",
    "    image = Image.open(path+\"/\"+file)\n",
    "\n",
    "    # Resize the image to a new size\n",
    "    new_size = (64, 64)\n",
    "    resized_image = image.resize(new_size)\n",
    "\n",
    "    # Save the resized image to a file\n",
    "    resized_image.save('Inception-Score/data/test'+file)\n"
   ]
  },
  {
   "attachments": {},
   "cell_type": "markdown",
   "metadata": {},
   "source": [
    "# TRAIN THE MODEL ON A DATASET"
   ]
  },
  {
   "cell_type": "code",
   "execution_count": null,
   "metadata": {},
   "outputs": [],
   "source": [
    "from start import init_train\n",
    "\n",
    "Trainer = init_train(\"configs/StyleGAN_64.json\", wandb_set=True)\n",
    "Trainer.train_loop()"
   ]
  },
  {
   "attachments": {},
   "cell_type": "markdown",
   "metadata": {},
   "source": [
    "# GENERATE IMAGES STYLEGAN"
   ]
  },
  {
   "cell_type": "code",
   "execution_count": null,
   "metadata": {},
   "outputs": [],
   "source": [
    "# Loading models and the latest weights without loading the dataset\n",
    "Trainer = init_train(\"configs/StyleGAN_64.json\", load_dataset=False)\n",
    "\n",
    "# Loading custom weights with an inaccurate match\n",
    "LoadWeights(Trainer, 'weight/StyleGAN StyleGAN 64/weight 420.pth')\n",
    "\n",
    "# Save 10 randomly generated images to the img folder\n",
    "SaveImages(Trainer, dir='Inception-Score/data/fake_images_cats_64', cnt=10)"
   ]
  },
  {
   "cell_type": "code",
   "execution_count": null,
   "metadata": {},
   "outputs": [],
   "source": [
    "path = 'Inception-Score/data/fake_images_64/'\n",
    "imgs = os.listdir(path)"
   ]
  },
  {
   "cell_type": "code",
   "execution_count": null,
   "metadata": {},
   "outputs": [],
   "source": [
    "images = [PIL.Image.open(path+f'{imgs[i]}') for i in random.sample(range(50000), 42)]\n",
    "createImageGrid(images, scale=1, rows=6)"
   ]
  },
  {
   "attachments": {},
   "cell_type": "markdown",
   "metadata": {},
   "source": [
    "# GENERATE IMAGES STYLEGAN2"
   ]
  },
  {
   "cell_type": "code",
   "execution_count": null,
   "metadata": {},
   "outputs": [],
   "source": [
    "# Loading models and the latest weights without loading the dataset\n",
    "Trainer = init_train(\"configs/StyleGAN2.json\", load_dataset=False)\n",
    "\n",
    "# Loading custom weights with an inaccurate match\n",
    "LoadWeights(Trainer, 'weight/StyleGAN StyleGAN2 64/weight 79.pth')\n",
    "\n",
    "# Save 10 randomly generated images to the img folder\n",
    "SaveImages(Trainer, dir='Inception-Score/data/fake_images2_64', cnt=50000)"
   ]
  },
  {
   "cell_type": "code",
   "execution_count": null,
   "metadata": {},
   "outputs": [],
   "source": [
    "images = [PIL.Image.open(path+f'{imgs[i]}') for i in random.sample(range(50000), 42)]\n",
    "createImageGrid(images, scale=1, rows=6)"
   ]
  },
  {
   "cell_type": "code",
   "execution_count": null,
   "metadata": {},
   "outputs": [],
   "source": [
    "path = 'Inception-Score/data/fake_images2_64/'\n",
    "imgs = os.listdir(path)"
   ]
  },
  {
   "attachments": {},
   "cell_type": "markdown",
   "metadata": {},
   "source": [
    "# REAL IMAGES"
   ]
  },
  {
   "cell_type": "code",
   "execution_count": null,
   "metadata": {},
   "outputs": [],
   "source": [
    "path = 'Inception-Score/data/real_images_64/'\n",
    "imgs = os.listdir(path)"
   ]
  },
  {
   "cell_type": "code",
   "execution_count": null,
   "metadata": {},
   "outputs": [],
   "source": [
    "images = [PIL.Image.open(path+f'{imgs[i]}') for i in random.sample(range(50000), 42)]\n",
    "createImageGrid(images, scale=1, rows=6)"
   ]
  },
  {
   "attachments": {},
   "cell_type": "markdown",
   "metadata": {},
   "source": [
    "# FID SCORE"
   ]
  },
  {
   "attachments": {},
   "cell_type": "markdown",
   "metadata": {},
   "source": [
    "## FID SCORE FOR STYLEGAN MODEL"
   ]
  },
  {
   "cell_type": "code",
   "execution_count": null,
   "metadata": {},
   "outputs": [],
   "source": [
    "! python -m pytorch_fid Inception-Score/data/fake_images_64 Inception-Score/data/real_images_64 --device cuda:0 --dims 64"
   ]
  },
  {
   "attachments": {},
   "cell_type": "markdown",
   "metadata": {},
   "source": [
    "## FID SCORE FOR STYLEGAN2 MODEL"
   ]
  },
  {
   "cell_type": "code",
   "execution_count": null,
   "metadata": {},
   "outputs": [],
   "source": [
    "! python -m pytorch_fid Inception-Score/data/fake_images2_64 Inception-Score/data/real_images_64 --device cuda:0 --dims 64"
   ]
  },
  {
   "attachments": {},
   "cell_type": "markdown",
   "metadata": {},
   "source": [
    "# SSIM SCORE"
   ]
  },
  {
   "cell_type": "code",
   "execution_count": null,
   "metadata": {},
   "outputs": [],
   "source": [
    "import os\n",
    "from torchvision import transforms\n",
    "from PIL import Image\n",
    "from tqdm import tqdm\n",
    "from torchmetrics import StructuralSimilarityIndexMeasure\n",
    "real_dir = \"Inception-Score/data/real_images_64/\"\n",
    "fake_dir = \"Inception-Score/data/fake_images2_64/\"\n",
    "\n",
    "# Define the transforms to be applied to the images\n",
    "transforms = transforms.Compose([\n",
    "    transforms.Resize((64, 64)),\n",
    "    transforms.ToTensor()\n",
    "])\n",
    "\n",
    "# Load the real images\n",
    "real_imag = os.listdir(real_dir)\n",
    "fake_img = os.listdir(fake_dir)\n",
    "real_images = []\n",
    "for i in tqdm(range(50000)):\n",
    "    image_path = real_dir + f\"{real_imag[i]}\"\n",
    "    image = Image.open(image_path)\n",
    "    image = transforms(image)\n",
    "    real_images.append(image)\n",
    "\n",
    "# Load the fake images\n",
    "fake_images = []\n",
    "for i in tqdm(range(50000)):\n",
    "    image_path = fake_dir + f\"{fake_img[i]}\"\n",
    "    image = Image.open(image_path)\n",
    "    image = transforms(image)\n",
    "    fake_images.append(image)\n",
    "\n",
    "ssim = StructuralSimilarityIndexMeasure(data_range=1.0)"
   ]
  },
  {
   "cell_type": "code",
   "execution_count": null,
   "metadata": {},
   "outputs": [],
   "source": [
    "# Calculate the SSIM score\n",
    "total_ssim = 0\n",
    "for i in tqdm(range(50000)):\n",
    "    real_image = real_images[i]\n",
    "    fake_image = fake_images[i]\n",
    "    ssim_score = ssim(fake_image.unsqueeze(0), real_image.unsqueeze(0))\n",
    "    total_ssim += ssim_score.item()\n",
    "\n",
    "avg_ssim = total_ssim / 50000\n",
    "print(\"Average SSIM score:\", avg_ssim)"
   ]
  }
 ],
 "metadata": {
  "kernelspec": {
   "display_name": "torch_prog",
   "language": "python",
   "name": "python3"
  },
  "language_info": {
   "codemirror_mode": {
    "name": "ipython",
    "version": 3
   },
   "file_extension": ".py",
   "mimetype": "text/x-python",
   "name": "python",
   "nbconvert_exporter": "python",
   "pygments_lexer": "ipython3",
   "version": "3.9.15"
  },
  "orig_nbformat": 4,
  "vscode": {
   "interpreter": {
    "hash": "c7ecd455aec3b5e96249223db60780ac3ed0b3669aced53a9e2ccd02701b5969"
   }
  }
 },
 "nbformat": 4,
 "nbformat_minor": 2
}
